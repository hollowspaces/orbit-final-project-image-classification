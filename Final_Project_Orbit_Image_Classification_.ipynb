{
  "nbformat": 4,
  "nbformat_minor": 0,
  "metadata": {
    "colab": {
      "name": "Final Project  Orbit - Image Classification - Sri Puji Astuti.ipynb",
      "provenance": [],
      "collapsed_sections": []
    },
    "kernelspec": {
      "name": "python3",
      "display_name": "Python 3"
    },
    "language_info": {
      "name": "python"
    },
    "accelerator": "GPU",
    "gpuClass": "standard"
  },
  "cells": [
    {
      "cell_type": "code",
      "source": [
        "from google.colab import drive\n",
        "drive.mount('/content/drive')"
      ],
      "metadata": {
        "colab": {
          "base_uri": "https://localhost:8080/"
        },
        "id": "rYR9oW_L_EHA",
        "outputId": "0344e0ac-1cf6-41ca-d189-6f3ba59c6fab"
      },
      "execution_count": null,
      "outputs": [
        {
          "output_type": "stream",
          "name": "stdout",
          "text": [
            "Mounted at /content/drive\n"
          ]
        }
      ]
    },
    {
      "cell_type": "code",
      "source": [
        ""
      ],
      "metadata": {
        "id": "D-6dPxUnGzco"
      },
      "execution_count": null,
      "outputs": []
    },
    {
      "cell_type": "code",
      "execution_count": null,
      "metadata": {
        "id": "g9Bj0-pe-0Kc"
      },
      "outputs": [],
      "source": [
        "import numpy as np\n",
        "import pandas as pd\n",
        "import os\n",
        "import tensorflow as tf\n",
        "import numpy as np\n",
        "from tensorflow.keras.preprocessing.image import ImageDataGenerator\n",
        "from tensorflow.keras.applications.resnet50 import ResNet50\n",
        "from tensorflow.keras.models import Sequential\n",
        "from tensorflow.keras.layers import Conv2D, MaxPool2D, Flatten, Dense, Activation, Dropout\n",
        "import matplotlib.pyplot as plt"
      ]
    },
    {
      "cell_type": "code",
      "source": [
        "train_dir = '/content/drive/MyDrive/ProyekAkhirOrbit/Dataset2080/training'\n",
        "val_dir = '/content/drive/MyDrive/ProyekAkhirOrbit/Dataset2080/validation'"
      ],
      "metadata": {
        "id": "Wt-uD5Pn_gAK"
      },
      "execution_count": null,
      "outputs": []
    },
    {
      "cell_type": "code",
      "source": [
        "img_height = 200\n",
        "img_width = 200"
      ],
      "metadata": {
        "id": "CAZrfZ1g_eyM"
      },
      "execution_count": null,
      "outputs": []
    },
    {
      "cell_type": "code",
      "source": [
        "train_datagen = ImageDataGenerator(\n",
        "        rescale=1./255,\n",
        "        vertical_flip=True,\n",
        "        horizontal_flip=True,\n",
        "        shear_range = 0.2,\n",
        "        rotation_range= 20\n",
        "        )\n",
        "\n",
        "test_datagen = ImageDataGenerator(rescale=1./255)"
      ],
      "metadata": {
        "id": "20ZsyUBGZlRa"
      },
      "execution_count": null,
      "outputs": []
    },
    {
      "cell_type": "code",
      "source": [
        "train_generator = train_datagen.flow_from_directory(\n",
        "                  train_dir,\n",
        "                  target_size=(200, 200),\n",
        "                  class_mode=\"categorical\"\n",
        "                  )\n",
        "\n",
        "val_generator = test_datagen.flow_from_directory(\n",
        "                val_dir,\n",
        "                target_size=(200, 200),\n",
        "                class_mode=\"categorical\",\n",
        "                )"
      ],
      "metadata": {
        "colab": {
          "base_uri": "https://localhost:8080/"
        },
        "id": "RiSy-gbBZ2ix",
        "outputId": "747bd5aa-ee30-4732-e318-97d33368f950"
      },
      "execution_count": null,
      "outputs": [
        {
          "output_type": "stream",
          "name": "stdout",
          "text": [
            "Found 960 images belonging to 6 classes.\n",
            "Found 240 images belonging to 6 classes.\n"
          ]
        }
      ]
    },
    {
      "cell_type": "code",
      "source": [
        "class_names = train_generator.class_indices\n",
        "print(class_names)"
      ],
      "metadata": {
        "colab": {
          "base_uri": "https://localhost:8080/"
        },
        "id": "1cjpBkgB_yRj",
        "outputId": "ee0bdca6-32e9-43c9-fe1c-b00e293b4425"
      },
      "execution_count": null,
      "outputs": [
        {
          "output_type": "stream",
          "name": "stdout",
          "text": [
            "{'Jawa': 0, 'Kalimantan': 1, 'Maluku dan Papua': 2, 'Sulawesi': 3, 'Sumatra': 4, 'Sunda kecil': 5}\n"
          ]
        }
      ]
    },
    {
      "cell_type": "code",
      "source": [
        "from tensorflow.keras import backend"
      ],
      "metadata": {
        "id": "zws9UClUAIcG"
      },
      "execution_count": null,
      "outputs": []
    },
    {
      "cell_type": "code",
      "source": [
        "backend.clear_session()\n",
        "\n",
        "model = Sequential()\n",
        "\n",
        "model.add(Conv2D(64, 3, input_shape=(200, 200,3), activation='relu'))\n",
        "model.add(MaxPool2D(2, 2))\n",
        "model.add(Conv2D(64, 3, activation='relu'))\n",
        "model.add(MaxPool2D(2, 2))\n",
        "model.add(Conv2D(128, 3, activation='relu'))\n",
        "model.add(MaxPool2D(2, 2))\n",
        "model.add(Conv2D(128, 3, activation='relu'))\n",
        "model.add(MaxPool2D(2, 2))\n",
        "model.add(Conv2D(256, 3, activation='relu'))\n",
        "model.add(MaxPool2D(2, 2))\n",
        "model.add(Conv2D(256, 3, activation='relu'))\n",
        "model.add(MaxPool2D(2, 2))\n",
        "\n",
        "model.add(Flatten())\n",
        "\n",
        "model.add(Dense(6, activation='softmax'))"
      ],
      "metadata": {
        "id": "4DQaeTZFAE4O"
      },
      "execution_count": null,
      "outputs": []
    },
    {
      "cell_type": "code",
      "source": [
        "model.summary()"
      ],
      "metadata": {
        "colab": {
          "base_uri": "https://localhost:8080/"
        },
        "id": "znj1CpvuAZfP",
        "outputId": "82eca400-6d98-4ba5-eed2-5f95a864d3eb"
      },
      "execution_count": null,
      "outputs": [
        {
          "output_type": "stream",
          "name": "stdout",
          "text": [
            "Model: \"sequential\"\n",
            "_________________________________________________________________\n",
            " Layer (type)                Output Shape              Param #   \n",
            "=================================================================\n",
            " conv2d (Conv2D)             (None, 198, 198, 64)      1792      \n",
            "                                                                 \n",
            " max_pooling2d (MaxPooling2D  (None, 99, 99, 64)       0         \n",
            " )                                                               \n",
            "                                                                 \n",
            " conv2d_1 (Conv2D)           (None, 97, 97, 64)        36928     \n",
            "                                                                 \n",
            " max_pooling2d_1 (MaxPooling  (None, 48, 48, 64)       0         \n",
            " 2D)                                                             \n",
            "                                                                 \n",
            " conv2d_2 (Conv2D)           (None, 46, 46, 128)       73856     \n",
            "                                                                 \n",
            " max_pooling2d_2 (MaxPooling  (None, 23, 23, 128)      0         \n",
            " 2D)                                                             \n",
            "                                                                 \n",
            " conv2d_3 (Conv2D)           (None, 21, 21, 128)       147584    \n",
            "                                                                 \n",
            " max_pooling2d_3 (MaxPooling  (None, 10, 10, 128)      0         \n",
            " 2D)                                                             \n",
            "                                                                 \n",
            " conv2d_4 (Conv2D)           (None, 8, 8, 256)         295168    \n",
            "                                                                 \n",
            " max_pooling2d_4 (MaxPooling  (None, 4, 4, 256)        0         \n",
            " 2D)                                                             \n",
            "                                                                 \n",
            " conv2d_5 (Conv2D)           (None, 2, 2, 256)         590080    \n",
            "                                                                 \n",
            " max_pooling2d_5 (MaxPooling  (None, 1, 1, 256)        0         \n",
            " 2D)                                                             \n",
            "                                                                 \n",
            " flatten (Flatten)           (None, 256)               0         \n",
            "                                                                 \n",
            " dense (Dense)               (None, 6)                 1542      \n",
            "                                                                 \n",
            "=================================================================\n",
            "Total params: 1,146,950\n",
            "Trainable params: 1,146,950\n",
            "Non-trainable params: 0\n",
            "_________________________________________________________________\n"
          ]
        }
      ]
    },
    {
      "cell_type": "code",
      "source": [
        "from tensorflow.keras.optimizers import Adam\n",
        "opt = Adam(learning_rate=0.0001)\n",
        "\n",
        "model.compile(\n",
        "    optimizer=opt,\n",
        "    loss=tf.losses.CategoricalCrossentropy(),\n",
        "    metrics=['accuracy'])"
      ],
      "metadata": {
        "id": "TTkN8JqvATqJ"
      },
      "execution_count": null,
      "outputs": []
    },
    {
      "cell_type": "code",
      "source": [
        "history = model.fit(\n",
        "          train_generator,\n",
        "          validation_data=val_generator,\n",
        "          epochs=50,\n",
        "          batch_size=32,\n",
        ")"
      ],
      "metadata": {
        "colab": {
          "base_uri": "https://localhost:8080/"
        },
        "id": "YjZTPpCvAe9f",
        "outputId": "11434a1f-7c5a-46da-8eb0-a2a0724da19e"
      },
      "execution_count": null,
      "outputs": [
        {
          "output_type": "stream",
          "name": "stdout",
          "text": [
            "Epoch 1/50\n",
            "30/30 [==============================] - 12s 378ms/step - loss: 1.7943 - accuracy: 0.1604 - val_loss: 1.7877 - val_accuracy: 0.1667\n",
            "Epoch 2/50\n",
            "30/30 [==============================] - 11s 368ms/step - loss: 1.7873 - accuracy: 0.1760 - val_loss: 1.7822 - val_accuracy: 0.1708\n",
            "Epoch 3/50\n",
            "30/30 [==============================] - 11s 371ms/step - loss: 1.7705 - accuracy: 0.2271 - val_loss: 1.7267 - val_accuracy: 0.2750\n",
            "Epoch 4/50\n",
            "30/30 [==============================] - 11s 371ms/step - loss: 1.7421 - accuracy: 0.2427 - val_loss: 1.7637 - val_accuracy: 0.2167\n",
            "Epoch 5/50\n",
            "30/30 [==============================] - 11s 368ms/step - loss: 1.7416 - accuracy: 0.2250 - val_loss: 1.6921 - val_accuracy: 0.3500\n",
            "Epoch 6/50\n",
            "30/30 [==============================] - 11s 373ms/step - loss: 1.6776 - accuracy: 0.3063 - val_loss: 1.5839 - val_accuracy: 0.3333\n",
            "Epoch 7/50\n",
            "30/30 [==============================] - 11s 372ms/step - loss: 1.6374 - accuracy: 0.3083 - val_loss: 1.5160 - val_accuracy: 0.4250\n",
            "Epoch 8/50\n",
            "30/30 [==============================] - 11s 370ms/step - loss: 1.5560 - accuracy: 0.3802 - val_loss: 1.4025 - val_accuracy: 0.4500\n",
            "Epoch 9/50\n",
            "30/30 [==============================] - 11s 377ms/step - loss: 1.4838 - accuracy: 0.4250 - val_loss: 1.3759 - val_accuracy: 0.3917\n",
            "Epoch 10/50\n",
            "30/30 [==============================] - 12s 414ms/step - loss: 1.4275 - accuracy: 0.4354 - val_loss: 1.3101 - val_accuracy: 0.5125\n",
            "Epoch 11/50\n",
            "30/30 [==============================] - 11s 373ms/step - loss: 1.3607 - accuracy: 0.4698 - val_loss: 1.2202 - val_accuracy: 0.4958\n",
            "Epoch 12/50\n",
            "30/30 [==============================] - 11s 373ms/step - loss: 1.3763 - accuracy: 0.4458 - val_loss: 1.2449 - val_accuracy: 0.4625\n",
            "Epoch 13/50\n",
            "30/30 [==============================] - 11s 374ms/step - loss: 1.3281 - accuracy: 0.4740 - val_loss: 1.2510 - val_accuracy: 0.4708\n",
            "Epoch 14/50\n",
            "30/30 [==============================] - 11s 377ms/step - loss: 1.2765 - accuracy: 0.4979 - val_loss: 1.1827 - val_accuracy: 0.5417\n",
            "Epoch 15/50\n",
            "30/30 [==============================] - 11s 374ms/step - loss: 1.2566 - accuracy: 0.5229 - val_loss: 1.1176 - val_accuracy: 0.5458\n",
            "Epoch 16/50\n",
            "30/30 [==============================] - 11s 374ms/step - loss: 1.2226 - accuracy: 0.5406 - val_loss: 1.1336 - val_accuracy: 0.5208\n",
            "Epoch 17/50\n",
            "30/30 [==============================] - 11s 377ms/step - loss: 1.2150 - accuracy: 0.5281 - val_loss: 1.0621 - val_accuracy: 0.5667\n",
            "Epoch 18/50\n",
            "30/30 [==============================] - 11s 375ms/step - loss: 1.1527 - accuracy: 0.5646 - val_loss: 1.0888 - val_accuracy: 0.5625\n",
            "Epoch 19/50\n",
            "30/30 [==============================] - 11s 380ms/step - loss: 1.1550 - accuracy: 0.5844 - val_loss: 1.0749 - val_accuracy: 0.5917\n",
            "Epoch 20/50\n",
            "30/30 [==============================] - 11s 375ms/step - loss: 1.1414 - accuracy: 0.5510 - val_loss: 1.0579 - val_accuracy: 0.5917\n",
            "Epoch 21/50\n",
            "30/30 [==============================] - 11s 375ms/step - loss: 1.1266 - accuracy: 0.5604 - val_loss: 1.0364 - val_accuracy: 0.5792\n",
            "Epoch 22/50\n",
            "30/30 [==============================] - 11s 377ms/step - loss: 1.1440 - accuracy: 0.5656 - val_loss: 0.9934 - val_accuracy: 0.6000\n",
            "Epoch 23/50\n",
            "30/30 [==============================] - 11s 373ms/step - loss: 1.1013 - accuracy: 0.5677 - val_loss: 1.0011 - val_accuracy: 0.6083\n",
            "Epoch 24/50\n",
            "30/30 [==============================] - 11s 376ms/step - loss: 1.0725 - accuracy: 0.5948 - val_loss: 0.9798 - val_accuracy: 0.5958\n",
            "Epoch 25/50\n",
            "30/30 [==============================] - 12s 384ms/step - loss: 1.1233 - accuracy: 0.5708 - val_loss: 1.0207 - val_accuracy: 0.5958\n",
            "Epoch 26/50\n",
            "30/30 [==============================] - 11s 374ms/step - loss: 1.0522 - accuracy: 0.5885 - val_loss: 0.9706 - val_accuracy: 0.6167\n",
            "Epoch 27/50\n",
            "30/30 [==============================] - 11s 376ms/step - loss: 1.0294 - accuracy: 0.6135 - val_loss: 0.9467 - val_accuracy: 0.6625\n",
            "Epoch 28/50\n",
            "30/30 [==============================] - 11s 374ms/step - loss: 1.0288 - accuracy: 0.6167 - val_loss: 1.2283 - val_accuracy: 0.4917\n",
            "Epoch 29/50\n",
            "30/30 [==============================] - 11s 374ms/step - loss: 1.0187 - accuracy: 0.6219 - val_loss: 0.9372 - val_accuracy: 0.6417\n",
            "Epoch 30/50\n",
            "30/30 [==============================] - 11s 378ms/step - loss: 1.0180 - accuracy: 0.6104 - val_loss: 0.9277 - val_accuracy: 0.6667\n",
            "Epoch 31/50\n",
            "30/30 [==============================] - 11s 373ms/step - loss: 0.9846 - accuracy: 0.6156 - val_loss: 0.9141 - val_accuracy: 0.6583\n",
            "Epoch 32/50\n",
            "30/30 [==============================] - 11s 374ms/step - loss: 0.9857 - accuracy: 0.6229 - val_loss: 0.9464 - val_accuracy: 0.6333\n",
            "Epoch 33/50\n",
            "30/30 [==============================] - 11s 374ms/step - loss: 1.0436 - accuracy: 0.5844 - val_loss: 0.9806 - val_accuracy: 0.6000\n",
            "Epoch 34/50\n",
            "30/30 [==============================] - 11s 375ms/step - loss: 0.9708 - accuracy: 0.6281 - val_loss: 0.8846 - val_accuracy: 0.6750\n",
            "Epoch 35/50\n",
            "30/30 [==============================] - 11s 372ms/step - loss: 0.9463 - accuracy: 0.6490 - val_loss: 0.8923 - val_accuracy: 0.6542\n",
            "Epoch 36/50\n",
            "30/30 [==============================] - 11s 376ms/step - loss: 1.0139 - accuracy: 0.6146 - val_loss: 1.0124 - val_accuracy: 0.6125\n",
            "Epoch 37/50\n",
            "30/30 [==============================] - 11s 374ms/step - loss: 0.9682 - accuracy: 0.6396 - val_loss: 0.9232 - val_accuracy: 0.6708\n",
            "Epoch 38/50\n",
            "30/30 [==============================] - 11s 374ms/step - loss: 0.9312 - accuracy: 0.6531 - val_loss: 0.9371 - val_accuracy: 0.6875\n",
            "Epoch 39/50\n",
            "30/30 [==============================] - 11s 376ms/step - loss: 0.9647 - accuracy: 0.6271 - val_loss: 0.9115 - val_accuracy: 0.6708\n",
            "Epoch 40/50\n",
            "30/30 [==============================] - 13s 418ms/step - loss: 0.9315 - accuracy: 0.6490 - val_loss: 0.9064 - val_accuracy: 0.6625\n",
            "Epoch 41/50\n",
            "30/30 [==============================] - 11s 379ms/step - loss: 0.9181 - accuracy: 0.6469 - val_loss: 0.9186 - val_accuracy: 0.6417\n",
            "Epoch 42/50\n",
            "30/30 [==============================] - 11s 375ms/step - loss: 0.9161 - accuracy: 0.6490 - val_loss: 0.9089 - val_accuracy: 0.6500\n",
            "Epoch 43/50\n",
            "30/30 [==============================] - 11s 372ms/step - loss: 0.8925 - accuracy: 0.6448 - val_loss: 1.0045 - val_accuracy: 0.5958\n",
            "Epoch 44/50\n",
            "30/30 [==============================] - 11s 375ms/step - loss: 0.9257 - accuracy: 0.6646 - val_loss: 0.9050 - val_accuracy: 0.6417\n",
            "Epoch 45/50\n",
            "30/30 [==============================] - 11s 375ms/step - loss: 0.9116 - accuracy: 0.6562 - val_loss: 0.9165 - val_accuracy: 0.6417\n",
            "Epoch 46/50\n",
            "30/30 [==============================] - 12s 383ms/step - loss: 0.8753 - accuracy: 0.6719 - val_loss: 0.8629 - val_accuracy: 0.6875\n",
            "Epoch 47/50\n",
            "30/30 [==============================] - 11s 376ms/step - loss: 0.8899 - accuracy: 0.6698 - val_loss: 0.9300 - val_accuracy: 0.6125\n",
            "Epoch 48/50\n",
            "30/30 [==============================] - 11s 377ms/step - loss: 0.8284 - accuracy: 0.6906 - val_loss: 0.9087 - val_accuracy: 0.6583\n",
            "Epoch 49/50\n",
            "30/30 [==============================] - 11s 374ms/step - loss: 0.8500 - accuracy: 0.6823 - val_loss: 0.9753 - val_accuracy: 0.6292\n",
            "Epoch 50/50\n",
            "30/30 [==============================] - 11s 380ms/step - loss: 0.8460 - accuracy: 0.6906 - val_loss: 0.8749 - val_accuracy: 0.6833\n"
          ]
        }
      ]
    },
    {
      "cell_type": "code",
      "source": [
        "acc = history.history['accuracy']\n",
        "val_acc = history.history['val_accuracy']\n",
        "\n",
        "loss = history.history['loss']\n",
        "val_loss = history.history['val_loss']\n",
        "\n",
        "epochs_range = range(50)\n",
        "\n",
        "plt.figure(figsize=(15, 5))\n",
        "plt.subplot(1, 2, 1)\n",
        "plt.plot(epochs_range, acc, label='Training Accuracy')\n",
        "plt.plot(epochs_range, val_acc, label='Validation Accuracy')\n",
        "plt.legend(loc='lower right')\n",
        "plt.title('Training and Validation Accuracy')\n",
        "\n",
        "plt.subplot(1, 2, 2)\n",
        "plt.plot(epochs_range, loss, label='Training Loss')\n",
        "plt.plot(epochs_range, val_loss, label='Validation Loss')\n",
        "plt.legend(loc='upper right')\n",
        "plt.title('Training and Validation Loss')\n",
        "plt.show()"
      ],
      "metadata": {
        "colab": {
          "base_uri": "https://localhost:8080/",
          "height": 336
        },
        "id": "WIARupX7CL0l",
        "outputId": "adb4e5d5-1b33-44a4-8ea3-2182b66d51db"
      },
      "execution_count": null,
      "outputs": [
        {
          "output_type": "display_data",
          "data": {
            "text/plain": [
              "<Figure size 1080x360 with 2 Axes>"
            ],
            "image/png": "[encoded data removed]"
          },
          "metadata": {
            "needs_background": "light"
          }
        }
      ]
    },
    {
      "cell_type": "code",
      "source": [
        "score = model.evaluate(train_generator)\n",
        "\n",
        "print('Loss: {:.4f}'.format(score[0]))\n",
        "print('Accuracy: {:.4f}'.format(score[1]))"
      ],
      "metadata": {
        "colab": {
          "base_uri": "https://localhost:8080/"
        },
        "id": "2BeT9GgrwaT_",
        "outputId": "3a0b0826-b6c3-4572-abcd-e5a6353b9957"
      },
      "execution_count": null,
      "outputs": [
        {
          "output_type": "stream",
          "name": "stdout",
          "text": [
            "30/30 [==============================] - 14s 485ms/step - loss: 0.7850 - accuracy: 0.7052\n",
            "Loss: 0.7850\n",
            "Accuracy: 0.7052\n"
          ]
        }
      ]
    },
    {
      "cell_type": "code",
      "source": [
        "score = model.evaluate(val_generator)\n",
        "\n",
        "print('Loss: {:.4f}'.format(score[0]))\n",
        "print('Accuracy: {:.4f}'.format(score[1]))"
      ],
      "metadata": {
        "colab": {
          "base_uri": "https://localhost:8080/"
        },
        "id": "Z22Nql9cwced",
        "outputId": "99f1463c-5c19-4126-bf3f-caa4bf2481ce"
      },
      "execution_count": null,
      "outputs": [
        {
          "output_type": "stream",
          "name": "stdout",
          "text": [
            "8/8 [==============================] - 1s 83ms/step - loss: 0.8749 - accuracy: 0.6833\n",
            "Loss: 0.8749\n",
            "Accuracy: 0.6833\n"
          ]
        }
      ]
    },
    {
      "cell_type": "code",
      "source": [
        "from sklearn.metrics import classification_report, confusion_matrix\n",
        "import sklearn.metrics\n",
        "\n",
        "Y_pred = model.predict(val_generator, val_generator.n // 32 + 1)\n",
        "y_pred = np.argmax(Y_pred, axis=1)\n",
        "\n",
        "print('Confusion Matrix')\n",
        "print(confusion_matrix(val_generator.classes, y_pred))\n",
        "confusion_array = sklearn.metrics.confusion_matrix(val_generator.classes, y_pred)\n",
        "\n",
        "print('True Positive = ', confusion_array[1,1])\n",
        "print('False Positive = ', confusion_array[0,1])\n",
        "print('True Negative = ', confusion_array[0,0])\n",
        "print('False Negative = ', confusion_array[1,0])"
      ],
      "metadata": {
        "colab": {
          "base_uri": "https://localhost:8080/"
        },
        "id": "qVcFZ5dzwhzS",
        "outputId": "a98da305-46a2-43e9-c79f-a932542ebea7"
      },
      "execution_count": null,
      "outputs": [
        {
          "output_type": "stream",
          "name": "stdout",
          "text": [
            "Confusion Matrix\n",
            "[[ 3  6  3  6 10 12]\n",
            " [11  7  3  8  5  6]\n",
            " [ 7  6  7  2  8 10]\n",
            " [11  1  7  5  5 11]\n",
            " [ 9  5  6  9  5  6]\n",
            " [ 8  3  2  9  7 11]]\n",
            "True Positive =  7\n",
            "False Positive =  6\n",
            "True Negative =  3\n",
            "False Negative =  11\n"
          ]
        }
      ]
    },
    {
      "cell_type": "code",
      "source": [
        "print('Classification Report')\n",
        "target_names = ['Jawa', 'Kalimantan', 'Maluku dan Papua', 'Sulawesi', 'Sumatera', 'Sunda Kecil']\n",
        "print(classification_report(val_generator.classes, y_pred, target_names=target_names))"
      ],
      "metadata": {
        "colab": {
          "base_uri": "https://localhost:8080/"
        },
        "id": "lZ4uiA63w9u5",
        "outputId": "fd79f12e-a805-4923-de79-bd29b3184382"
      },
      "execution_count": null,
      "outputs": [
        {
          "output_type": "stream",
          "name": "stdout",
          "text": [
            "Classification Report\n",
            "                  precision    recall  f1-score   support\n",
            "\n",
            "            Jawa       0.06      0.07      0.07        40\n",
            "      Kalimantan       0.25      0.17      0.21        40\n",
            "Maluku dan Papua       0.25      0.17      0.21        40\n",
            "        Sulawesi       0.13      0.12      0.13        40\n",
            "        Sumatera       0.12      0.12      0.12        40\n",
            "     Sunda Kecil       0.20      0.28      0.23        40\n",
            "\n",
            "        accuracy                           0.16       240\n",
            "       macro avg       0.17      0.16      0.16       240\n",
            "    weighted avg       0.17      0.16      0.16       240\n",
            "\n"
          ]
        }
      ]
    },
    {
      "cell_type": "code",
      "source": [
        "evaluation = pd.DataFrame({'Model': [],\n",
        "                           'Data_Train': [],\n",
        "                           'Data_Valid': [],\n",
        "                           'Epochs': [],\n",
        "                           'Batch_Size': [],\n",
        "                           'Loss': [],\n",
        "                           'Accuracy': []\n",
        "})\n",
        "\n",
        "r = evaluation.shape[0]\n",
        "evaluation.loc[r] = ['CNN', train_generator.n, val_generator.n, 50, 32, score[0], score[1]]\n",
        "evaluation"
      ],
      "metadata": {
        "colab": {
          "base_uri": "https://localhost:8080/",
          "height": 81
        },
        "id": "VrH2MPyXxfVH",
        "outputId": "32dab295-2bcc-4d9e-bc3d-787544c7aac7"
      },
      "execution_count": null,
      "outputs": [
        {
          "output_type": "execute_result",
          "data": {
            "text/plain": [
              "  Model  Data_Train  Data_Valid  Epochs  Batch_Size      Loss  Accuracy\n",
              "0   CNN       960.0       240.0    50.0        32.0  0.874924  0.683333"
            ],
            "text/html": [
              "\n",
              "  <div id=\"df-91467481-1b8d-4c9f-851d-aae91434032c\">\n",
              "    <div class=\"colab-df-container\">\n",
              "      <div>\n",
              "<style scoped>\n",
              "    .dataframe tbody tr th:only-of-type {\n",
              "        vertical-align: middle;\n",
              "    }\n",
              "\n",
              "    .dataframe tbody tr th {\n",
              "        vertical-align: top;\n",
              "    }\n",
              "\n",
              "    .dataframe thead th {\n",
              "        text-align: right;\n",
              "    }\n",
              "</style>\n",
              "<table border=\"1\" class=\"dataframe\">\n",
              "  <thead>\n",
              "    <tr style=\"text-align: right;\">\n",
              "      <th></th>\n",
              "      <th>Model</th>\n",
              "      <th>Data_Train</th>\n",
              "      <th>Data_Valid</th>\n",
              "      <th>Epochs</th>\n",
              "      <th>Batch_Size</th>\n",
              "      <th>Loss</th>\n",
              "      <th>Accuracy</th>\n",
              "    </tr>\n",
              "  </thead>\n",
              "  <tbody>\n",
              "    <tr>\n",
              "      <th>0</th>\n",
              "      <td>CNN</td>\n",
              "      <td>960.0</td>\n",
              "      <td>240.0</td>\n",
              "      <td>50.0</td>\n",
              "      <td>32.0</td>\n",
              "      <td>0.874924</td>\n",
              "      <td>0.683333</td>\n",
              "    </tr>\n",
              "  </tbody>\n",
              "</table>\n",
              "</div>\n",
              "      <button class=\"colab-df-convert\" onclick=\"convertToInteractive('df-91467481-1b8d-4c9f-851d-aae91434032c')\"\n",
              "              title=\"Convert this dataframe to an interactive table.\"\n",
              "              style=\"display:none;\">\n",
              "        \n",
              "  <svg xmlns=\"http://www.w3.org/2000/svg\" height=\"24px\"viewBox=\"0 0 24 24\"\n",
              "       width=\"24px\">\n",
              "    <path d=\"M0 0h24v24H0V0z\" fill=\"none\"/>\n",
              "    <path d=\"M18.56 5.44l.94 2.06.94-2.06 2.06-.94-2.06-.94-.94-2.06-.94 2.06-2.06.94zm-11 1L8.5 8.5l.94-2.06 2.06-.94-2.06-.94L8.5 2.5l-.94 2.06-2.06.94zm10 10l.94 2.06.94-2.06 2.06-.94-2.06-.94-.94-2.06-.94 2.06-2.06.94z\"/><path d=\"M17.41 7.96l-1.37-1.37c-.4-.4-.92-.59-1.43-.59-.52 0-1.04.2-1.43.59L10.3 9.45l-7.72 7.72c-.78.78-.78 2.05 0 2.83L4 21.41c.39.39.9.59 1.41.59.51 0 1.02-.2 1.41-.59l7.78-7.78 2.81-2.81c.8-.78.8-2.07 0-2.86zM5.41 20L4 18.59l7.72-7.72 1.47 1.35L5.41 20z\"/>\n",
              "  </svg>\n",
              "      </button>\n",
              "      \n",
              "  <style>\n",
              "    .colab-df-container {\n",
              "      display:flex;\n",
              "      flex-wrap:wrap;\n",
              "      gap: 12px;\n",
              "    }\n",
              "\n",
              "    .colab-df-convert {\n",
              "      background-color: #E8F0FE;\n",
              "      border: none;\n",
              "      border-radius: 50%;\n",
              "      cursor: pointer;\n",
              "      display: none;\n",
              "      fill: #1967D2;\n",
              "      height: 32px;\n",
              "      padding: 0 0 0 0;\n",
              "      width: 32px;\n",
              "    }\n",
              "\n",
              "    .colab-df-convert:hover {\n",
              "      background-color: #E2EBFA;\n",
              "      box-shadow: 0px 1px 2px rgba(60, 64, 67, 0.3), 0px 1px 3px 1px rgba(60, 64, 67, 0.15);\n",
              "      fill: #174EA6;\n",
              "    }\n",
              "\n",
              "    [theme=dark] .colab-df-convert {\n",
              "      background-color: #3B4455;\n",
              "      fill: #D2E3FC;\n",
              "    }\n",
              "\n",
              "    [theme=dark] .colab-df-convert:hover {\n",
              "      background-color: #434B5C;\n",
              "      box-shadow: 0px 1px 3px 1px rgba(0, 0, 0, 0.15);\n",
              "      filter: drop-shadow(0px 1px 2px rgba(0, 0, 0, 0.3));\n",
              "      fill: #FFFFFF;\n",
              "    }\n",
              "  </style>\n",
              "\n",
              "      <script>\n",
              "        const buttonEl =\n",
              "          document.querySelector('#df-91467481-1b8d-4c9f-851d-aae91434032c button.colab-df-convert');\n",
              "        buttonEl.style.display =\n",
              "          google.colab.kernel.accessAllowed ? 'block' : 'none';\n",
              "\n",
              "        async function convertToInteractive(key) {\n",
              "          const element = document.querySelector('#df-91467481-1b8d-4c9f-851d-aae91434032c');\n",
              "          const dataTable =\n",
              "            await google.colab.kernel.invokeFunction('convertToInteractive',\n",
              "                                                     [key], {});\n",
              "          if (!dataTable) return;\n",
              "\n",
              "          const docLinkHtml = 'Like what you see? Visit the ' +\n",
              "            '<a target=\"_blank\" href=https://colab.research.google.com/notebooks/data_table.ipynb>data table notebook</a>'\n",
              "            + ' to learn more about interactive tables.';\n",
              "          element.innerHTML = '';\n",
              "          dataTable['output_type'] = 'display_data';\n",
              "          await google.colab.output.renderOutput(dataTable, element);\n",
              "          const docLink = document.createElement('div');\n",
              "          docLink.innerHTML = docLinkHtml;\n",
              "          element.appendChild(docLink);\n",
              "        }\n",
              "      </script>\n",
              "    </div>\n",
              "  </div>\n",
              "  "
            ]
          },
          "metadata": {},
          "execution_count": 80
        }
      ]
    }
  ]
}